{
 "cells": [
  {
   "cell_type": "markdown",
   "metadata": {},
   "source": [
    "### Deploying Machine Learning Models with Flask + Heroku: \n",
    "\n",
    "Here we will create a simple linear model and pickle it for deployment later. "
   ]
  },
  {
   "cell_type": "code",
   "execution_count": 4,
   "metadata": {},
   "outputs": [],
   "source": [
    "from sklearn.datasets import load_boston \n",
    "from sklearn.linear_model import LinearRegression \n",
    "import pandas as pd \n",
    "import pickle"
   ]
  },
  {
   "cell_type": "code",
   "execution_count": 5,
   "metadata": {},
   "outputs": [],
   "source": [
    "data = load_boston() \n",
    "df = pd.DataFrame(data=data['data'], columns=data['feature_names'])\n",
    "df['Target'] = data['target']\n",
    "\n",
    "X = df.drop('Target', axis=1)\n",
    "y = df.Target"
   ]
  },
  {
   "cell_type": "code",
   "execution_count": 6,
   "metadata": {},
   "outputs": [],
   "source": [
    "lin_model = LinearRegression() \n",
    "lin_model.fit(X, y)\n",
    "pickle.dump(lin_model, open(\"lin_model.pkl\", \"wb\"))"
   ]
  },
  {
   "cell_type": "code",
   "execution_count": 12,
   "metadata": {},
   "outputs": [
    {
     "data": {
      "text/plain": [
       "0    24.0\n",
       "1    21.6\n",
       "2    34.7\n",
       "3    33.4\n",
       "4    36.2\n",
       "Name: Target, dtype: float64"
      ]
     },
     "metadata": {},
     "output_type": "display_data"
    }
   ],
   "source": [
    "display(y.head())"
   ]
  },
  {
   "cell_type": "code",
   "execution_count": 10,
   "metadata": {},
   "outputs": [
    {
     "name": "stdout",
     "output_type": "stream",
     "text": [
      "<Response [200]>\n"
     ]
    }
   ],
   "source": [
    "import requests \n",
    "import json \n",
    "\n",
    "# local url: \n",
    "url = 'http://127.0.0.1:5000'\n",
    "\n",
    "\n",
    "# sample data\n",
    "data = {'CRIM': .023\n",
    "      , 'ZN': 0.0\n",
    "      , 'INDUS': 4.03\n",
    "      , 'CHAS': 0.0 \n",
    "      , 'NOX': .60 \n",
    "      , 'RM': 4.129\n",
    "      , 'AGE': 92.4 \n",
    "      , 'DIS': 3.5918 \n",
    "      , 'RAD': 2.0 \n",
    "      , 'TAX': 222.0 \n",
    "      , 'PTRATIO': 18.7 \n",
    "      , 'B': 396.60 \n",
    "      , 'LSTAT': 2.94} \n",
    "\n",
    "data = json.dumps(data)\n",
    "\n",
    "send_request = requests.post(url, data)\n",
    "print(send_request)"
   ]
  },
  {
   "cell_type": "code",
   "execution_count": 11,
   "metadata": {},
   "outputs": [
    {
     "name": "stdout",
     "output_type": "stream",
     "text": [
      "{'results': {'results': 18}}\n"
     ]
    }
   ],
   "source": [
    "print(send_request.json())"
   ]
  },
  {
   "cell_type": "code",
   "execution_count": null,
   "metadata": {},
   "outputs": [],
   "source": []
  }
 ],
 "metadata": {
  "kernelspec": {
   "display_name": "Python 3",
   "language": "python",
   "name": "python3"
  },
  "language_info": {
   "codemirror_mode": {
    "name": "ipython",
    "version": 3
   },
   "file_extension": ".py",
   "mimetype": "text/x-python",
   "name": "python",
   "nbconvert_exporter": "python",
   "pygments_lexer": "ipython3",
   "version": "3.7.3"
  }
 },
 "nbformat": 4,
 "nbformat_minor": 4
}
