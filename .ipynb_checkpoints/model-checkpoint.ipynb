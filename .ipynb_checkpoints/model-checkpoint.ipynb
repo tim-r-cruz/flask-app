{
 "cells": [
  {
   "cell_type": "markdown",
   "metadata": {},
   "source": [
    "### Deploying Machine Learning Models with Flask + Heroku: \n",
    "\n",
    "Here we will create a simple linear model and pickle it for deployment later. "
   ]
  },
  {
   "cell_type": "code",
   "execution_count": 11,
   "metadata": {},
   "outputs": [],
   "source": [
    "from sklearn.datasets import load_boston \n",
    "from sklearn.linear_model import LinearRegression \n",
    "import pandas as pd \n",
    "import pickle"
   ]
  },
  {
   "cell_type": "code",
   "execution_count": 12,
   "metadata": {},
   "outputs": [],
   "source": [
    "data = load_boston() \n",
    "df = pd.DataFrame(data=data['data'], columns=data['feature_names'])\n",
    "df['Target'] = data['target']\n",
    "\n",
    "X = df.drop('Target', axis=1)\n",
    "y = df.Target"
   ]
  },
  {
   "cell_type": "code",
   "execution_count": 13,
   "metadata": {},
   "outputs": [
    {
     "name": "stdout",
     "output_type": "stream",
     "text": [
      "0.7406426641094094\n"
     ]
    }
   ],
   "source": [
    "lin_model = LinearRegression() \n",
    "lin_model.fit(X, y)\n",
    "pickle.dump(lin_model, open(\"lin_model.pkl\", \"wb\"))"
   ]
  }
 ],
 "metadata": {
  "kernelspec": {
   "display_name": "Python 3",
   "language": "python",
   "name": "python3"
  },
  "language_info": {
   "codemirror_mode": {
    "name": "ipython",
    "version": 3
   },
   "file_extension": ".py",
   "mimetype": "text/x-python",
   "name": "python",
   "nbconvert_exporter": "python",
   "pygments_lexer": "ipython3",
   "version": "3.7.3"
  }
 },
 "nbformat": 4,
 "nbformat_minor": 4
}
