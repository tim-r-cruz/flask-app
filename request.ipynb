{
 "cells": [
  {
   "cell_type": "code",
   "execution_count": null,
   "metadata": {},
   "outputs": [],
   "source": [
    "import json\n",
    "import requests\n",
    "heroku_url = \"https://boston-housing-flask-model.herokuapp.com\"\n",
    "\n",
    "data = {\"CRIM\": .03,  \n",
    "        \"ZN\": 0.0, \n",
    "        \"INDUS\": 9.8, \n",
    "        \"CHAS\": 0.0, \n",
    "        \"NOX\": .405, \n",
    "        \"RM\": 6.953, \n",
    "        \"AGE\": 83.4, \n",
    "        \"DIS\": 4.034, \n",
    "        \"RAD\": 1.0, \n",
    "        \"TAX\": 348.0, \n",
    "        \"PTRATIO\": 12.4, \n",
    "        \"B\": 396.7, \n",
    "        \"LSTAT\": 9.5\n",
    "       }\n",
    "data = json.dumps(data)\n",
    "\n",
    "send_request = requests.post(heroku_url, data)\n",
    "print(send_request.json())"
   ]
  }
 ],
 "metadata": {
  "kernelspec": {
   "display_name": "Python 3",
   "language": "python",
   "name": "python3"
  },
  "language_info": {
   "codemirror_mode": {
    "name": "ipython",
    "version": 3
   },
   "file_extension": ".py",
   "mimetype": "text/x-python",
   "name": "python",
   "nbconvert_exporter": "python",
   "pygments_lexer": "ipython3",
   "version": "3.7.3"
  }
 },
 "nbformat": 4,
 "nbformat_minor": 4
}
